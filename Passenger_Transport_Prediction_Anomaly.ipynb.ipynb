{
 "cells": [
  {
   "cell_type": "code",
   "execution_count": 1,
   "id": "0437bbe6",
   "metadata": {
    "_cell_guid": "b1076dfc-b9ad-4769-8c92-a6c4dae69d19",
    "_uuid": "8f2839f25d086af736a60e9eeb907d3b93b6e0e5",
    "execution": {
     "iopub.execute_input": "2024-03-31T08:23:19.755784Z",
     "iopub.status.busy": "2024-03-31T08:23:19.755308Z",
     "iopub.status.idle": "2024-03-31T08:23:20.804751Z",
     "shell.execute_reply": "2024-03-31T08:23:20.803319Z"
    },
    "papermill": {
     "duration": 1.065213,
     "end_time": "2024-03-31T08:23:20.807271",
     "exception": false,
     "start_time": "2024-03-31T08:23:19.742058",
     "status": "completed"
    },
    "tags": []
   },
   "outputs": [
    {
     "name": "stdout",
     "output_type": "stream",
     "text": [
      "/kaggle/input/titanic1234/sample_submission.csv\n",
      "/kaggle/input/titanic1234/train.csv\n",
      "/kaggle/input/titanic1234/test.csv\n"
     ]
    }
   ],
   "source": [
    "# This Python 3 environment comes with many helpful analytics libraries installed\n",
    "# It is defined by the kaggle/python Docker image: https://github.com/kaggle/docker-python\n",
    "# For example, here's several helpful packages to load\n",
    "\n",
    "import numpy as np # linear algebra\n",
    "import pandas as pd # data processing, CSV file I/O (e.g. pd.read_csv)\n",
    "\n",
    "# Input data files are available in the read-only \"../input/\" directory\n",
    "# For example, running this (by clicking run or pressing Shift+Enter) will list all files under the input directory\n",
    "\n",
    "import os\n",
    "for dirname, _, filenames in os.walk('/kaggle/input'):\n",
    "    for filename in filenames:\n",
    "        print(os.path.join(dirname, filename))\n",
    "\n",
    "# You can write up to 20GB to the current directory (/kaggle/working/) that gets preserved as output when you create a version using \"Save & Run All\" \n",
    "# You can also write temporary files to /kaggle/temp/, but they won't be saved outside of the current session"
   ]
  },
  {
   "cell_type": "code",
   "execution_count": 2,
   "id": "37ddfb2b",
   "metadata": {
    "execution": {
     "iopub.execute_input": "2024-03-31T08:23:20.823532Z",
     "iopub.status.busy": "2024-03-31T08:23:20.822840Z",
     "iopub.status.idle": "2024-03-31T08:23:20.891218Z",
     "shell.execute_reply": "2024-03-31T08:23:20.889895Z"
    },
    "papermill": {
     "duration": 0.079723,
     "end_time": "2024-03-31T08:23:20.894030",
     "exception": false,
     "start_time": "2024-03-31T08:23:20.814307",
     "status": "completed"
    },
    "tags": []
   },
   "outputs": [],
   "source": [
    "train_data = pd.read_csv('/kaggle/input/titanic1234/train.csv')\n",
    "test_data = pd.read_csv('/kaggle/input/titanic1234/test.csv') "
   ]
  },
  {
   "cell_type": "code",
   "execution_count": 3,
   "id": "4aa56c97",
   "metadata": {
    "execution": {
     "iopub.execute_input": "2024-03-31T08:23:20.909608Z",
     "iopub.status.busy": "2024-03-31T08:23:20.909155Z",
     "iopub.status.idle": "2024-03-31T08:23:20.942972Z",
     "shell.execute_reply": "2024-03-31T08:23:20.942006Z"
    },
    "papermill": {
     "duration": 0.044732,
     "end_time": "2024-03-31T08:23:20.945602",
     "exception": false,
     "start_time": "2024-03-31T08:23:20.900870",
     "status": "completed"
    },
    "tags": []
   },
   "outputs": [
    {
     "data": {
      "text/html": [
       "<div>\n",
       "<style scoped>\n",
       "    .dataframe tbody tr th:only-of-type {\n",
       "        vertical-align: middle;\n",
       "    }\n",
       "\n",
       "    .dataframe tbody tr th {\n",
       "        vertical-align: top;\n",
       "    }\n",
       "\n",
       "    .dataframe thead th {\n",
       "        text-align: right;\n",
       "    }\n",
       "</style>\n",
       "<table border=\"1\" class=\"dataframe\">\n",
       "  <thead>\n",
       "    <tr style=\"text-align: right;\">\n",
       "      <th></th>\n",
       "      <th>PassengerId</th>\n",
       "      <th>HomePlanet</th>\n",
       "      <th>CryoSleep</th>\n",
       "      <th>Cabin</th>\n",
       "      <th>Destination</th>\n",
       "      <th>Age</th>\n",
       "      <th>VIP</th>\n",
       "      <th>RoomService</th>\n",
       "      <th>FoodCourt</th>\n",
       "      <th>ShoppingMall</th>\n",
       "      <th>Spa</th>\n",
       "      <th>VRDeck</th>\n",
       "      <th>Name</th>\n",
       "      <th>Transported</th>\n",
       "    </tr>\n",
       "  </thead>\n",
       "  <tbody>\n",
       "    <tr>\n",
       "      <th>0</th>\n",
       "      <td>2513_01</td>\n",
       "      <td>Earth</td>\n",
       "      <td>False</td>\n",
       "      <td>NaN</td>\n",
       "      <td>TRAPPIST-1e</td>\n",
       "      <td>28.0</td>\n",
       "      <td>False</td>\n",
       "      <td>0.0</td>\n",
       "      <td>55.0</td>\n",
       "      <td>0.0</td>\n",
       "      <td>656.0</td>\n",
       "      <td>0.0</td>\n",
       "      <td>Loree Mathison</td>\n",
       "      <td>False</td>\n",
       "    </tr>\n",
       "    <tr>\n",
       "      <th>1</th>\n",
       "      <td>2774_02</td>\n",
       "      <td>Earth</td>\n",
       "      <td>False</td>\n",
       "      <td>F/575/P</td>\n",
       "      <td>TRAPPIST-1e</td>\n",
       "      <td>17.0</td>\n",
       "      <td>False</td>\n",
       "      <td>0.0</td>\n",
       "      <td>1195.0</td>\n",
       "      <td>31.0</td>\n",
       "      <td>0.0</td>\n",
       "      <td>0.0</td>\n",
       "      <td>Crisey Mcbriddley</td>\n",
       "      <td>False</td>\n",
       "    </tr>\n",
       "    <tr>\n",
       "      <th>2</th>\n",
       "      <td>8862_04</td>\n",
       "      <td>Europa</td>\n",
       "      <td>True</td>\n",
       "      <td>C/329/S</td>\n",
       "      <td>55 Cancri e</td>\n",
       "      <td>28.0</td>\n",
       "      <td>False</td>\n",
       "      <td>0.0</td>\n",
       "      <td>0.0</td>\n",
       "      <td>0.0</td>\n",
       "      <td>0.0</td>\n",
       "      <td>0.0</td>\n",
       "      <td>Alramix Myling</td>\n",
       "      <td>True</td>\n",
       "    </tr>\n",
       "    <tr>\n",
       "      <th>3</th>\n",
       "      <td>8736_02</td>\n",
       "      <td>Mars</td>\n",
       "      <td>False</td>\n",
       "      <td>F/1800/P</td>\n",
       "      <td>TRAPPIST-1e</td>\n",
       "      <td>20.0</td>\n",
       "      <td>False</td>\n",
       "      <td>NaN</td>\n",
       "      <td>2.0</td>\n",
       "      <td>289.0</td>\n",
       "      <td>976.0</td>\n",
       "      <td>0.0</td>\n",
       "      <td>Tros Pota</td>\n",
       "      <td>True</td>\n",
       "    </tr>\n",
       "    <tr>\n",
       "      <th>4</th>\n",
       "      <td>0539_02</td>\n",
       "      <td>Europa</td>\n",
       "      <td>True</td>\n",
       "      <td>C/18/P</td>\n",
       "      <td>55 Cancri e</td>\n",
       "      <td>36.0</td>\n",
       "      <td>False</td>\n",
       "      <td>0.0</td>\n",
       "      <td>0.0</td>\n",
       "      <td>0.0</td>\n",
       "      <td>0.0</td>\n",
       "      <td>0.0</td>\n",
       "      <td>Achyon Nalanet</td>\n",
       "      <td>True</td>\n",
       "    </tr>\n",
       "  </tbody>\n",
       "</table>\n",
       "</div>"
      ],
      "text/plain": [
       "  PassengerId HomePlanet CryoSleep     Cabin  Destination   Age    VIP  \\\n",
       "0     2513_01      Earth     False       NaN  TRAPPIST-1e  28.0  False   \n",
       "1     2774_02      Earth     False   F/575/P  TRAPPIST-1e  17.0  False   \n",
       "2     8862_04     Europa      True   C/329/S  55 Cancri e  28.0  False   \n",
       "3     8736_02       Mars     False  F/1800/P  TRAPPIST-1e  20.0  False   \n",
       "4     0539_02     Europa      True    C/18/P  55 Cancri e  36.0  False   \n",
       "\n",
       "   RoomService  FoodCourt  ShoppingMall    Spa  VRDeck               Name  \\\n",
       "0          0.0       55.0           0.0  656.0     0.0     Loree Mathison   \n",
       "1          0.0     1195.0          31.0    0.0     0.0  Crisey Mcbriddley   \n",
       "2          0.0        0.0           0.0    0.0     0.0     Alramix Myling   \n",
       "3          NaN        2.0         289.0  976.0     0.0          Tros Pota   \n",
       "4          0.0        0.0           0.0    0.0     0.0     Achyon Nalanet   \n",
       "\n",
       "   Transported  \n",
       "0        False  \n",
       "1        False  \n",
       "2         True  \n",
       "3         True  \n",
       "4         True  "
      ]
     },
     "execution_count": 3,
     "metadata": {},
     "output_type": "execute_result"
    }
   ],
   "source": [
    "train_data.head()"
   ]
  },
  {
   "cell_type": "code",
   "execution_count": 4,
   "id": "60089c46",
   "metadata": {
    "execution": {
     "iopub.execute_input": "2024-03-31T08:23:20.962098Z",
     "iopub.status.busy": "2024-03-31T08:23:20.961612Z",
     "iopub.status.idle": "2024-03-31T08:23:20.981500Z",
     "shell.execute_reply": "2024-03-31T08:23:20.980216Z"
    },
    "papermill": {
     "duration": 0.031406,
     "end_time": "2024-03-31T08:23:20.984227",
     "exception": false,
     "start_time": "2024-03-31T08:23:20.952821",
     "status": "completed"
    },
    "tags": []
   },
   "outputs": [
    {
     "data": {
      "text/html": [
       "<div>\n",
       "<style scoped>\n",
       "    .dataframe tbody tr th:only-of-type {\n",
       "        vertical-align: middle;\n",
       "    }\n",
       "\n",
       "    .dataframe tbody tr th {\n",
       "        vertical-align: top;\n",
       "    }\n",
       "\n",
       "    .dataframe thead th {\n",
       "        text-align: right;\n",
       "    }\n",
       "</style>\n",
       "<table border=\"1\" class=\"dataframe\">\n",
       "  <thead>\n",
       "    <tr style=\"text-align: right;\">\n",
       "      <th></th>\n",
       "      <th>PassengerId</th>\n",
       "      <th>HomePlanet</th>\n",
       "      <th>CryoSleep</th>\n",
       "      <th>Cabin</th>\n",
       "      <th>Destination</th>\n",
       "      <th>Age</th>\n",
       "      <th>VIP</th>\n",
       "      <th>RoomService</th>\n",
       "      <th>FoodCourt</th>\n",
       "      <th>ShoppingMall</th>\n",
       "      <th>Spa</th>\n",
       "      <th>VRDeck</th>\n",
       "      <th>Name</th>\n",
       "    </tr>\n",
       "  </thead>\n",
       "  <tbody>\n",
       "    <tr>\n",
       "      <th>0</th>\n",
       "      <td>0337_02</td>\n",
       "      <td>Mars</td>\n",
       "      <td>False</td>\n",
       "      <td>F/63/S</td>\n",
       "      <td>TRAPPIST-1e</td>\n",
       "      <td>19.0</td>\n",
       "      <td>False</td>\n",
       "      <td>417.0</td>\n",
       "      <td>349.0</td>\n",
       "      <td>634.0</td>\n",
       "      <td>3.0</td>\n",
       "      <td>1057.0</td>\n",
       "      <td>Weros Perle</td>\n",
       "    </tr>\n",
       "    <tr>\n",
       "      <th>1</th>\n",
       "      <td>2891_01</td>\n",
       "      <td>Earth</td>\n",
       "      <td>False</td>\n",
       "      <td>G/460/S</td>\n",
       "      <td>TRAPPIST-1e</td>\n",
       "      <td>18.0</td>\n",
       "      <td>False</td>\n",
       "      <td>4.0</td>\n",
       "      <td>904.0</td>\n",
       "      <td>0.0</td>\n",
       "      <td>0.0</td>\n",
       "      <td>1.0</td>\n",
       "      <td>Gleney Ortinericey</td>\n",
       "    </tr>\n",
       "    <tr>\n",
       "      <th>2</th>\n",
       "      <td>8998_01</td>\n",
       "      <td>Earth</td>\n",
       "      <td>True</td>\n",
       "      <td>G/1449/S</td>\n",
       "      <td>TRAPPIST-1e</td>\n",
       "      <td>41.0</td>\n",
       "      <td>False</td>\n",
       "      <td>0.0</td>\n",
       "      <td>0.0</td>\n",
       "      <td>0.0</td>\n",
       "      <td>0.0</td>\n",
       "      <td>0.0</td>\n",
       "      <td>Gerry Englence</td>\n",
       "    </tr>\n",
       "    <tr>\n",
       "      <th>3</th>\n",
       "      <td>1771_01</td>\n",
       "      <td>Earth</td>\n",
       "      <td>False</td>\n",
       "      <td>G/291/P</td>\n",
       "      <td>TRAPPIST-1e</td>\n",
       "      <td>35.0</td>\n",
       "      <td>False</td>\n",
       "      <td>0.0</td>\n",
       "      <td>338.0</td>\n",
       "      <td>436.0</td>\n",
       "      <td>NaN</td>\n",
       "      <td>0.0</td>\n",
       "      <td>Antone Cardner</td>\n",
       "    </tr>\n",
       "    <tr>\n",
       "      <th>4</th>\n",
       "      <td>9034_02</td>\n",
       "      <td>Europa</td>\n",
       "      <td>True</td>\n",
       "      <td>D/288/P</td>\n",
       "      <td>TRAPPIST-1e</td>\n",
       "      <td>43.0</td>\n",
       "      <td>False</td>\n",
       "      <td>0.0</td>\n",
       "      <td>0.0</td>\n",
       "      <td>0.0</td>\n",
       "      <td>0.0</td>\n",
       "      <td>0.0</td>\n",
       "      <td>Errairk Crakete</td>\n",
       "    </tr>\n",
       "  </tbody>\n",
       "</table>\n",
       "</div>"
      ],
      "text/plain": [
       "  PassengerId HomePlanet CryoSleep     Cabin  Destination   Age    VIP  \\\n",
       "0     0337_02       Mars     False    F/63/S  TRAPPIST-1e  19.0  False   \n",
       "1     2891_01      Earth     False   G/460/S  TRAPPIST-1e  18.0  False   \n",
       "2     8998_01      Earth      True  G/1449/S  TRAPPIST-1e  41.0  False   \n",
       "3     1771_01      Earth     False   G/291/P  TRAPPIST-1e  35.0  False   \n",
       "4     9034_02     Europa      True   D/288/P  TRAPPIST-1e  43.0  False   \n",
       "\n",
       "   RoomService  FoodCourt  ShoppingMall  Spa  VRDeck                Name  \n",
       "0        417.0      349.0         634.0  3.0  1057.0         Weros Perle  \n",
       "1          4.0      904.0           0.0  0.0     1.0  Gleney Ortinericey  \n",
       "2          0.0        0.0           0.0  0.0     0.0      Gerry Englence  \n",
       "3          0.0      338.0         436.0  NaN     0.0      Antone Cardner  \n",
       "4          0.0        0.0           0.0  0.0     0.0     Errairk Crakete  "
      ]
     },
     "execution_count": 4,
     "metadata": {},
     "output_type": "execute_result"
    }
   ],
   "source": [
    "test_data.head()"
   ]
  },
  {
   "cell_type": "code",
   "execution_count": 5,
   "id": "2a0b5453",
   "metadata": {
    "execution": {
     "iopub.execute_input": "2024-03-31T08:23:21.001402Z",
     "iopub.status.busy": "2024-03-31T08:23:21.000913Z",
     "iopub.status.idle": "2024-03-31T08:23:21.008064Z",
     "shell.execute_reply": "2024-03-31T08:23:21.006895Z"
    },
    "papermill": {
     "duration": 0.01851,
     "end_time": "2024-03-31T08:23:21.010407",
     "exception": false,
     "start_time": "2024-03-31T08:23:20.991897",
     "status": "completed"
    },
    "tags": []
   },
   "outputs": [
    {
     "data": {
      "text/plain": [
       "(6954, 14)"
      ]
     },
     "execution_count": 5,
     "metadata": {},
     "output_type": "execute_result"
    }
   ],
   "source": [
    "train_data.shape\n"
   ]
  },
  {
   "cell_type": "code",
   "execution_count": 6,
   "id": "ecdeeda8",
   "metadata": {
    "execution": {
     "iopub.execute_input": "2024-03-31T08:23:21.027388Z",
     "iopub.status.busy": "2024-03-31T08:23:21.026522Z",
     "iopub.status.idle": "2024-03-31T08:23:21.034046Z",
     "shell.execute_reply": "2024-03-31T08:23:21.032764Z"
    },
    "papermill": {
     "duration": 0.01893,
     "end_time": "2024-03-31T08:23:21.036834",
     "exception": false,
     "start_time": "2024-03-31T08:23:21.017904",
     "status": "completed"
    },
    "tags": []
   },
   "outputs": [
    {
     "data": {
      "text/plain": [
       "(1739, 13)"
      ]
     },
     "execution_count": 6,
     "metadata": {},
     "output_type": "execute_result"
    }
   ],
   "source": [
    "test_data.shape"
   ]
  },
  {
   "cell_type": "code",
   "execution_count": 7,
   "id": "fa334de1",
   "metadata": {
    "execution": {
     "iopub.execute_input": "2024-03-31T08:23:21.054210Z",
     "iopub.status.busy": "2024-03-31T08:23:21.053738Z",
     "iopub.status.idle": "2024-03-31T08:23:21.068452Z",
     "shell.execute_reply": "2024-03-31T08:23:21.067235Z"
    },
    "papermill": {
     "duration": 0.026094,
     "end_time": "2024-03-31T08:23:21.070771",
     "exception": false,
     "start_time": "2024-03-31T08:23:21.044677",
     "status": "completed"
    },
    "tags": []
   },
   "outputs": [
    {
     "data": {
      "text/plain": [
       "PassengerId       0\n",
       "HomePlanet      168\n",
       "CryoSleep       177\n",
       "Cabin           158\n",
       "Destination     139\n",
       "Age             148\n",
       "VIP             162\n",
       "RoomService     126\n",
       "FoodCourt       140\n",
       "ShoppingMall    165\n",
       "Spa             134\n",
       "VRDeck          151\n",
       "Name            159\n",
       "Transported       0\n",
       "dtype: int64"
      ]
     },
     "execution_count": 7,
     "metadata": {},
     "output_type": "execute_result"
    }
   ],
   "source": [
    "train_data.isnull().sum()"
   ]
  },
  {
   "cell_type": "code",
   "execution_count": 8,
   "id": "1c48efb5",
   "metadata": {
    "execution": {
     "iopub.execute_input": "2024-03-31T08:23:21.088547Z",
     "iopub.status.busy": "2024-03-31T08:23:21.088129Z",
     "iopub.status.idle": "2024-03-31T08:23:21.097222Z",
     "shell.execute_reply": "2024-03-31T08:23:21.096279Z"
    },
    "papermill": {
     "duration": 0.021064,
     "end_time": "2024-03-31T08:23:21.099433",
     "exception": false,
     "start_time": "2024-03-31T08:23:21.078369",
     "status": "completed"
    },
    "tags": []
   },
   "outputs": [
    {
     "data": {
      "text/plain": [
       "PassengerId      0\n",
       "HomePlanet      33\n",
       "CryoSleep       40\n",
       "Cabin           41\n",
       "Destination     43\n",
       "Age             31\n",
       "VIP             41\n",
       "RoomService     55\n",
       "FoodCourt       43\n",
       "ShoppingMall    43\n",
       "Spa             49\n",
       "VRDeck          37\n",
       "Name            41\n",
       "dtype: int64"
      ]
     },
     "execution_count": 8,
     "metadata": {},
     "output_type": "execute_result"
    }
   ],
   "source": [
    "test_data.isnull().sum()"
   ]
  },
  {
   "cell_type": "code",
   "execution_count": 9,
   "id": "d0c2cd9c",
   "metadata": {
    "execution": {
     "iopub.execute_input": "2024-03-31T08:23:21.118099Z",
     "iopub.status.busy": "2024-03-31T08:23:21.117588Z",
     "iopub.status.idle": "2024-03-31T08:23:21.133974Z",
     "shell.execute_reply": "2024-03-31T08:23:21.132632Z"
    },
    "papermill": {
     "duration": 0.027982,
     "end_time": "2024-03-31T08:23:21.136417",
     "exception": false,
     "start_time": "2024-03-31T08:23:21.108435",
     "status": "completed"
    },
    "tags": []
   },
   "outputs": [],
   "source": [
    "X = train_data.drop(['RoomService','FoodCourt','ShoppingMall','Spa','Name','Cabin','PassengerId','VRDeck','Transported'], axis = 1)\n",
    "y = train_data['Transported']"
   ]
  },
  {
   "cell_type": "code",
   "execution_count": 10,
   "id": "09666694",
   "metadata": {
    "execution": {
     "iopub.execute_input": "2024-03-31T08:23:21.153814Z",
     "iopub.status.busy": "2024-03-31T08:23:21.153394Z",
     "iopub.status.idle": "2024-03-31T08:23:21.160728Z",
     "shell.execute_reply": "2024-03-31T08:23:21.159457Z"
    },
    "papermill": {
     "duration": 0.018953,
     "end_time": "2024-03-31T08:23:21.163134",
     "exception": false,
     "start_time": "2024-03-31T08:23:21.144181",
     "status": "completed"
    },
    "tags": []
   },
   "outputs": [],
   "source": [
    "X1 = test_data.drop(['RoomService','FoodCourt','ShoppingMall','Spa','Name','Cabin','PassengerId','VRDeck'], axis = 1)\n"
   ]
  },
  {
   "cell_type": "code",
   "execution_count": 11,
   "id": "6851d173",
   "metadata": {
    "execution": {
     "iopub.execute_input": "2024-03-31T08:23:21.182560Z",
     "iopub.status.busy": "2024-03-31T08:23:21.181053Z",
     "iopub.status.idle": "2024-03-31T08:23:21.196828Z",
     "shell.execute_reply": "2024-03-31T08:23:21.195677Z"
    },
    "papermill": {
     "duration": 0.028235,
     "end_time": "2024-03-31T08:23:21.199308",
     "exception": false,
     "start_time": "2024-03-31T08:23:21.171073",
     "status": "completed"
    },
    "tags": []
   },
   "outputs": [
    {
     "data": {
      "text/html": [
       "<div>\n",
       "<style scoped>\n",
       "    .dataframe tbody tr th:only-of-type {\n",
       "        vertical-align: middle;\n",
       "    }\n",
       "\n",
       "    .dataframe tbody tr th {\n",
       "        vertical-align: top;\n",
       "    }\n",
       "\n",
       "    .dataframe thead th {\n",
       "        text-align: right;\n",
       "    }\n",
       "</style>\n",
       "<table border=\"1\" class=\"dataframe\">\n",
       "  <thead>\n",
       "    <tr style=\"text-align: right;\">\n",
       "      <th></th>\n",
       "      <th>HomePlanet</th>\n",
       "      <th>CryoSleep</th>\n",
       "      <th>Destination</th>\n",
       "      <th>Age</th>\n",
       "      <th>VIP</th>\n",
       "    </tr>\n",
       "  </thead>\n",
       "  <tbody>\n",
       "    <tr>\n",
       "      <th>0</th>\n",
       "      <td>Earth</td>\n",
       "      <td>False</td>\n",
       "      <td>TRAPPIST-1e</td>\n",
       "      <td>28.0</td>\n",
       "      <td>False</td>\n",
       "    </tr>\n",
       "    <tr>\n",
       "      <th>1</th>\n",
       "      <td>Earth</td>\n",
       "      <td>False</td>\n",
       "      <td>TRAPPIST-1e</td>\n",
       "      <td>17.0</td>\n",
       "      <td>False</td>\n",
       "    </tr>\n",
       "    <tr>\n",
       "      <th>2</th>\n",
       "      <td>Europa</td>\n",
       "      <td>True</td>\n",
       "      <td>55 Cancri e</td>\n",
       "      <td>28.0</td>\n",
       "      <td>False</td>\n",
       "    </tr>\n",
       "    <tr>\n",
       "      <th>3</th>\n",
       "      <td>Mars</td>\n",
       "      <td>False</td>\n",
       "      <td>TRAPPIST-1e</td>\n",
       "      <td>20.0</td>\n",
       "      <td>False</td>\n",
       "    </tr>\n",
       "    <tr>\n",
       "      <th>4</th>\n",
       "      <td>Europa</td>\n",
       "      <td>True</td>\n",
       "      <td>55 Cancri e</td>\n",
       "      <td>36.0</td>\n",
       "      <td>False</td>\n",
       "    </tr>\n",
       "  </tbody>\n",
       "</table>\n",
       "</div>"
      ],
      "text/plain": [
       "  HomePlanet CryoSleep  Destination   Age    VIP\n",
       "0      Earth     False  TRAPPIST-1e  28.0  False\n",
       "1      Earth     False  TRAPPIST-1e  17.0  False\n",
       "2     Europa      True  55 Cancri e  28.0  False\n",
       "3       Mars     False  TRAPPIST-1e  20.0  False\n",
       "4     Europa      True  55 Cancri e  36.0  False"
      ]
     },
     "execution_count": 11,
     "metadata": {},
     "output_type": "execute_result"
    }
   ],
   "source": [
    "X.head()"
   ]
  },
  {
   "cell_type": "code",
   "execution_count": 12,
   "id": "1c37a28f",
   "metadata": {
    "execution": {
     "iopub.execute_input": "2024-03-31T08:23:21.217626Z",
     "iopub.status.busy": "2024-03-31T08:23:21.217145Z",
     "iopub.status.idle": "2024-03-31T08:23:21.232422Z",
     "shell.execute_reply": "2024-03-31T08:23:21.231131Z"
    },
    "papermill": {
     "duration": 0.027339,
     "end_time": "2024-03-31T08:23:21.234779",
     "exception": false,
     "start_time": "2024-03-31T08:23:21.207440",
     "status": "completed"
    },
    "tags": []
   },
   "outputs": [
    {
     "data": {
      "text/html": [
       "<div>\n",
       "<style scoped>\n",
       "    .dataframe tbody tr th:only-of-type {\n",
       "        vertical-align: middle;\n",
       "    }\n",
       "\n",
       "    .dataframe tbody tr th {\n",
       "        vertical-align: top;\n",
       "    }\n",
       "\n",
       "    .dataframe thead th {\n",
       "        text-align: right;\n",
       "    }\n",
       "</style>\n",
       "<table border=\"1\" class=\"dataframe\">\n",
       "  <thead>\n",
       "    <tr style=\"text-align: right;\">\n",
       "      <th></th>\n",
       "      <th>HomePlanet</th>\n",
       "      <th>CryoSleep</th>\n",
       "      <th>Destination</th>\n",
       "      <th>Age</th>\n",
       "      <th>VIP</th>\n",
       "    </tr>\n",
       "  </thead>\n",
       "  <tbody>\n",
       "    <tr>\n",
       "      <th>0</th>\n",
       "      <td>Mars</td>\n",
       "      <td>False</td>\n",
       "      <td>TRAPPIST-1e</td>\n",
       "      <td>19.0</td>\n",
       "      <td>False</td>\n",
       "    </tr>\n",
       "    <tr>\n",
       "      <th>1</th>\n",
       "      <td>Earth</td>\n",
       "      <td>False</td>\n",
       "      <td>TRAPPIST-1e</td>\n",
       "      <td>18.0</td>\n",
       "      <td>False</td>\n",
       "    </tr>\n",
       "    <tr>\n",
       "      <th>2</th>\n",
       "      <td>Earth</td>\n",
       "      <td>True</td>\n",
       "      <td>TRAPPIST-1e</td>\n",
       "      <td>41.0</td>\n",
       "      <td>False</td>\n",
       "    </tr>\n",
       "    <tr>\n",
       "      <th>3</th>\n",
       "      <td>Earth</td>\n",
       "      <td>False</td>\n",
       "      <td>TRAPPIST-1e</td>\n",
       "      <td>35.0</td>\n",
       "      <td>False</td>\n",
       "    </tr>\n",
       "    <tr>\n",
       "      <th>4</th>\n",
       "      <td>Europa</td>\n",
       "      <td>True</td>\n",
       "      <td>TRAPPIST-1e</td>\n",
       "      <td>43.0</td>\n",
       "      <td>False</td>\n",
       "    </tr>\n",
       "  </tbody>\n",
       "</table>\n",
       "</div>"
      ],
      "text/plain": [
       "  HomePlanet CryoSleep  Destination   Age    VIP\n",
       "0       Mars     False  TRAPPIST-1e  19.0  False\n",
       "1      Earth     False  TRAPPIST-1e  18.0  False\n",
       "2      Earth      True  TRAPPIST-1e  41.0  False\n",
       "3      Earth     False  TRAPPIST-1e  35.0  False\n",
       "4     Europa      True  TRAPPIST-1e  43.0  False"
      ]
     },
     "execution_count": 12,
     "metadata": {},
     "output_type": "execute_result"
    }
   ],
   "source": [
    "X1.head()"
   ]
  },
  {
   "cell_type": "code",
   "execution_count": 13,
   "id": "cc8ec73a",
   "metadata": {
    "execution": {
     "iopub.execute_input": "2024-03-31T08:23:21.253538Z",
     "iopub.status.busy": "2024-03-31T08:23:21.253060Z",
     "iopub.status.idle": "2024-03-31T08:23:22.682673Z",
     "shell.execute_reply": "2024-03-31T08:23:22.681111Z"
    },
    "papermill": {
     "duration": 1.442302,
     "end_time": "2024-03-31T08:23:22.685442",
     "exception": false,
     "start_time": "2024-03-31T08:23:21.243140",
     "status": "completed"
    },
    "tags": []
   },
   "outputs": [
    {
     "name": "stdout",
     "output_type": "stream",
     "text": [
      "   HomePlanet  CryoSleep  Destination   Age  VIP\n",
      "0           0          0            2  28.0    0\n",
      "1           0          0            2  17.0    0\n",
      "2           1          1            0  28.0    0\n",
      "3           2          0            2  20.0    0\n",
      "4           1          1            0  36.0    0\n"
     ]
    }
   ],
   "source": [
    "from sklearn.preprocessing import LabelEncoder\n",
    "\n",
    "categorical_columns = ['HomePlanet','CryoSleep','Destination','VIP']  \n",
    "\n",
    "le = LabelEncoder()\n",
    "\n",
    "for col in categorical_columns:\n",
    "    X[col] = le.fit_transform(X[col])\n",
    "\n",
    "print(X.head())"
   ]
  },
  {
   "cell_type": "code",
   "execution_count": 14,
   "id": "b7230ffd",
   "metadata": {
    "execution": {
     "iopub.execute_input": "2024-03-31T08:23:22.704431Z",
     "iopub.status.busy": "2024-03-31T08:23:22.703977Z",
     "iopub.status.idle": "2024-03-31T08:23:22.717078Z",
     "shell.execute_reply": "2024-03-31T08:23:22.715885Z"
    },
    "papermill": {
     "duration": 0.025832,
     "end_time": "2024-03-31T08:23:22.719626",
     "exception": false,
     "start_time": "2024-03-31T08:23:22.693794",
     "status": "completed"
    },
    "tags": []
   },
   "outputs": [
    {
     "name": "stdout",
     "output_type": "stream",
     "text": [
      "   HomePlanet  CryoSleep  Destination   Age  VIP\n",
      "0           2          0            2  19.0    0\n",
      "1           0          0            2  18.0    0\n",
      "2           0          1            2  41.0    0\n",
      "3           0          0            2  35.0    0\n",
      "4           1          1            2  43.0    0\n"
     ]
    }
   ],
   "source": [
    "from sklearn.preprocessing import LabelEncoder\n",
    "\n",
    "categorical_columns = ['HomePlanet','CryoSleep','Destination','VIP']  \n",
    "\n",
    "le = LabelEncoder()\n",
    "\n",
    "for col in categorical_columns:\n",
    "    X1[col] = le.fit_transform(X1[col])\n",
    "\n",
    "print(X1.head())"
   ]
  },
  {
   "cell_type": "code",
   "execution_count": 15,
   "id": "e2bbb35a",
   "metadata": {
    "execution": {
     "iopub.execute_input": "2024-03-31T08:23:22.738556Z",
     "iopub.status.busy": "2024-03-31T08:23:22.738001Z",
     "iopub.status.idle": "2024-03-31T08:23:22.750163Z",
     "shell.execute_reply": "2024-03-31T08:23:22.748690Z"
    },
    "papermill": {
     "duration": 0.025641,
     "end_time": "2024-03-31T08:23:22.753672",
     "exception": false,
     "start_time": "2024-03-31T08:23:22.728031",
     "status": "completed"
    },
    "tags": []
   },
   "outputs": [
    {
     "name": "stdout",
     "output_type": "stream",
     "text": [
      "      HomePlanet  CryoSleep  Destination   Age  VIP\n",
      "0              0          0            2  28.0    0\n",
      "1              0          0            2  17.0    0\n",
      "2              1          1            0  28.0    0\n",
      "3              2          0            2  20.0    0\n",
      "4              1          1            0  36.0    0\n",
      "...          ...        ...          ...   ...  ...\n",
      "6949           0          2            2  18.0    0\n",
      "6950           2          0            2  50.0    2\n",
      "6951           0          0            1  22.0    0\n",
      "6952           2          0            2  34.0    0\n",
      "6953           1          0            0  28.0    0\n",
      "\n",
      "[6954 rows x 5 columns]\n"
     ]
    }
   ],
   "source": [
    "print(X)"
   ]
  },
  {
   "cell_type": "code",
   "execution_count": 16,
   "id": "9653b3b1",
   "metadata": {
    "execution": {
     "iopub.execute_input": "2024-03-31T08:23:22.775953Z",
     "iopub.status.busy": "2024-03-31T08:23:22.774828Z",
     "iopub.status.idle": "2024-03-31T08:23:22.786893Z",
     "shell.execute_reply": "2024-03-31T08:23:22.785377Z"
    },
    "papermill": {
     "duration": 0.026731,
     "end_time": "2024-03-31T08:23:22.790106",
     "exception": false,
     "start_time": "2024-03-31T08:23:22.763375",
     "status": "completed"
    },
    "tags": []
   },
   "outputs": [
    {
     "name": "stdout",
     "output_type": "stream",
     "text": [
      "      HomePlanet  CryoSleep  Destination   Age  VIP\n",
      "0              2          0            2  19.0    0\n",
      "1              0          0            2  18.0    0\n",
      "2              0          1            2  41.0    0\n",
      "3              0          0            2  35.0    0\n",
      "4              1          1            2  43.0    0\n",
      "...          ...        ...          ...   ...  ...\n",
      "1734           0          1            2  16.0    0\n",
      "1735           0          1            2   0.0    0\n",
      "1736           0          0            2  17.0    0\n",
      "1737           2          1            2  42.0    0\n",
      "1738           0          0            2  17.0    0\n",
      "\n",
      "[1739 rows x 5 columns]\n"
     ]
    }
   ],
   "source": [
    "print(X1)"
   ]
  },
  {
   "cell_type": "code",
   "execution_count": 17,
   "id": "065527d5",
   "metadata": {
    "execution": {
     "iopub.execute_input": "2024-03-31T08:23:22.809989Z",
     "iopub.status.busy": "2024-03-31T08:23:22.809535Z",
     "iopub.status.idle": "2024-03-31T08:23:23.278242Z",
     "shell.execute_reply": "2024-03-31T08:23:23.276600Z"
    },
    "papermill": {
     "duration": 0.484032,
     "end_time": "2024-03-31T08:23:23.282679",
     "exception": false,
     "start_time": "2024-03-31T08:23:22.798647",
     "status": "completed"
    },
    "tags": []
   },
   "outputs": [
    {
     "name": "stdout",
     "output_type": "stream",
     "text": [
      "      HomePlanet  CryoSleep  Destination   Age  VIP\n",
      "0            0.0        0.0          2.0  28.0  0.0\n",
      "1            0.0        0.0          2.0  17.0  0.0\n",
      "2            1.0        1.0          0.0  28.0  0.0\n",
      "3            2.0        0.0          2.0  20.0  0.0\n",
      "4            1.0        1.0          0.0  36.0  0.0\n",
      "...          ...        ...          ...   ...  ...\n",
      "6949         0.0        2.0          2.0  18.0  0.0\n",
      "6950         2.0        0.0          2.0  50.0  2.0\n",
      "6951         0.0        0.0          1.0  22.0  0.0\n",
      "6952         2.0        0.0          2.0  34.0  0.0\n",
      "6953         1.0        0.0          0.0  28.0  0.0\n",
      "\n",
      "[6954 rows x 5 columns]\n"
     ]
    }
   ],
   "source": [
    "from sklearn.impute import KNNImputer\n",
    "import pandas as pd\n",
    "\n",
    "imputer = KNNImputer(n_neighbors=5)\n",
    "imputer.fit(X)  \n",
    "\n",
    "X = pd.DataFrame(imputer.transform(X), columns=X.columns)  \n",
    "\n",
    "print(X)"
   ]
  },
  {
   "cell_type": "code",
   "execution_count": 18,
   "id": "4f124c28",
   "metadata": {
    "execution": {
     "iopub.execute_input": "2024-03-31T08:23:23.307655Z",
     "iopub.status.busy": "2024-03-31T08:23:23.307229Z",
     "iopub.status.idle": "2024-03-31T08:23:23.336246Z",
     "shell.execute_reply": "2024-03-31T08:23:23.334864Z"
    },
    "papermill": {
     "duration": 0.042654,
     "end_time": "2024-03-31T08:23:23.339345",
     "exception": false,
     "start_time": "2024-03-31T08:23:23.296691",
     "status": "completed"
    },
    "tags": []
   },
   "outputs": [
    {
     "name": "stdout",
     "output_type": "stream",
     "text": [
      "      HomePlanet  CryoSleep  Destination   Age  VIP\n",
      "0            2.0        0.0          2.0  19.0  0.0\n",
      "1            0.0        0.0          2.0  18.0  0.0\n",
      "2            0.0        1.0          2.0  41.0  0.0\n",
      "3            0.0        0.0          2.0  35.0  0.0\n",
      "4            1.0        1.0          2.0  43.0  0.0\n",
      "...          ...        ...          ...   ...  ...\n",
      "1734         0.0        1.0          2.0  16.0  0.0\n",
      "1735         0.0        1.0          2.0   0.0  0.0\n",
      "1736         0.0        0.0          2.0  17.0  0.0\n",
      "1737         2.0        1.0          2.0  42.0  0.0\n",
      "1738         0.0        0.0          2.0  17.0  0.0\n",
      "\n",
      "[1739 rows x 5 columns]\n"
     ]
    }
   ],
   "source": [
    "from sklearn.impute import KNNImputer\n",
    "import pandas as pd\n",
    "\n",
    "imputer = KNNImputer(n_neighbors=5)\n",
    "imputer.fit(X1)  \n",
    "\n",
    "X1 = pd.DataFrame(imputer.transform(X1), columns=X1.columns)  \n",
    "\n",
    "print(X1)"
   ]
  },
  {
   "cell_type": "code",
   "execution_count": 19,
   "id": "92876bf5",
   "metadata": {
    "execution": {
     "iopub.execute_input": "2024-03-31T08:23:23.374573Z",
     "iopub.status.busy": "2024-03-31T08:23:23.372640Z",
     "iopub.status.idle": "2024-03-31T08:23:23.402250Z",
     "shell.execute_reply": "2024-03-31T08:23:23.400990Z"
    },
    "papermill": {
     "duration": 0.051501,
     "end_time": "2024-03-31T08:23:23.405550",
     "exception": false,
     "start_time": "2024-03-31T08:23:23.354049",
     "status": "completed"
    },
    "tags": []
   },
   "outputs": [
    {
     "name": "stdout",
     "output_type": "stream",
     "text": [
      "      HomePlanet  CryoSleep  Destination       Age  VIP\n",
      "0            0.0        0.0          2.0 -0.053552  0.0\n",
      "1            0.0        0.0          2.0 -0.819924  0.0\n",
      "2            1.0        1.0          0.0 -0.053552  0.0\n",
      "3            2.0        0.0          2.0 -0.610914  0.0\n",
      "4            1.0        1.0          0.0  0.503810  0.0\n",
      "...          ...        ...          ...       ...  ...\n",
      "6949         0.0        2.0          2.0 -0.750254  0.0\n",
      "6950         2.0        0.0          2.0  1.479192  2.0\n",
      "6951         0.0        0.0          1.0 -0.471573  0.0\n",
      "6952         2.0        0.0          2.0  0.364469  0.0\n",
      "6953         1.0        0.0          0.0 -0.053552  0.0\n",
      "\n",
      "[6954 rows x 5 columns]\n"
     ]
    }
   ],
   "source": [
    "from sklearn.preprocessing import StandardScaler\n",
    "\n",
    "columns_to_scale = ['Age']\n",
    "\n",
    "scaler = StandardScaler()\n",
    "\n",
    "\n",
    "X_scaled = X[columns_to_scale]\n",
    "\n",
    "\n",
    "X_scaled = scaler.fit_transform(X_scaled)\n",
    "\n",
    "\n",
    "X[columns_to_scale] = X_scaled\n",
    "\n",
    "\n",
    "print(X)"
   ]
  },
  {
   "cell_type": "code",
   "execution_count": 20,
   "id": "48a981c6",
   "metadata": {
    "execution": {
     "iopub.execute_input": "2024-03-31T08:23:23.441137Z",
     "iopub.status.busy": "2024-03-31T08:23:23.439560Z",
     "iopub.status.idle": "2024-03-31T08:23:23.460579Z",
     "shell.execute_reply": "2024-03-31T08:23:23.458998Z"
    },
    "papermill": {
     "duration": 0.043271,
     "end_time": "2024-03-31T08:23:23.463571",
     "exception": false,
     "start_time": "2024-03-31T08:23:23.420300",
     "status": "completed"
    },
    "tags": []
   },
   "outputs": [
    {
     "name": "stdout",
     "output_type": "stream",
     "text": [
      "      HomePlanet  CryoSleep  Destination       Age  VIP\n",
      "0            2.0        0.0          2.0 -0.673555  0.0\n",
      "1            0.0        0.0          2.0 -0.742296  0.0\n",
      "2            0.0        1.0          2.0  0.838755  0.0\n",
      "3            0.0        0.0          2.0  0.426307  0.0\n",
      "4            1.0        1.0          2.0  0.976238  0.0\n",
      "...          ...        ...          ...       ...  ...\n",
      "1734         0.0        1.0          2.0 -0.879779  0.0\n",
      "1735         0.0        1.0          2.0 -1.979640  0.0\n",
      "1736         0.0        0.0          2.0 -0.811037  0.0\n",
      "1737         2.0        1.0          2.0  0.907496  0.0\n",
      "1738         0.0        0.0          2.0 -0.811037  0.0\n",
      "\n",
      "[1739 rows x 5 columns]\n"
     ]
    }
   ],
   "source": [
    "from sklearn.preprocessing import StandardScaler\n",
    "\n",
    "columns_to_scale = ['Age']\n",
    "\n",
    "scaler = StandardScaler()\n",
    "\n",
    "\n",
    "X1_scaled = X1[columns_to_scale]\n",
    "\n",
    "\n",
    "X1_scaled = scaler.fit_transform(X1_scaled)\n",
    "\n",
    "\n",
    "X1[columns_to_scale] = X1_scaled\n",
    "\n",
    "\n",
    "print(X1)"
   ]
  },
  {
   "cell_type": "code",
   "execution_count": 21,
   "id": "e4edfc1c",
   "metadata": {
    "execution": {
     "iopub.execute_input": "2024-03-31T08:23:23.484532Z",
     "iopub.status.busy": "2024-03-31T08:23:23.483862Z",
     "iopub.status.idle": "2024-03-31T08:23:23.523852Z",
     "shell.execute_reply": "2024-03-31T08:23:23.521833Z"
    },
    "papermill": {
     "duration": 0.054845,
     "end_time": "2024-03-31T08:23:23.527991",
     "exception": false,
     "start_time": "2024-03-31T08:23:23.473146",
     "status": "completed"
    },
    "tags": []
   },
   "outputs": [],
   "source": [
    "from sklearn.linear_model import LogisticRegression\n",
    "model = LogisticRegression(random_state=0)  \n",
    "\n",
    "model.fit(X, y)\n",
    "\n",
    "y_pred = model.predict(X1)"
   ]
  },
  {
   "cell_type": "code",
   "execution_count": 22,
   "id": "34e5bdab",
   "metadata": {
    "execution": {
     "iopub.execute_input": "2024-03-31T08:23:23.565858Z",
     "iopub.status.busy": "2024-03-31T08:23:23.565172Z",
     "iopub.status.idle": "2024-03-31T08:23:23.572914Z",
     "shell.execute_reply": "2024-03-31T08:23:23.571665Z"
    },
    "papermill": {
     "duration": 0.032298,
     "end_time": "2024-03-31T08:23:23.578212",
     "exception": false,
     "start_time": "2024-03-31T08:23:23.545914",
     "status": "completed"
    },
    "tags": []
   },
   "outputs": [
    {
     "name": "stdout",
     "output_type": "stream",
     "text": [
      "1739\n"
     ]
    }
   ],
   "source": [
    "print(len(y_pred))"
   ]
  },
  {
   "cell_type": "code",
   "execution_count": 23,
   "id": "84a64f33",
   "metadata": {
    "execution": {
     "iopub.execute_input": "2024-03-31T08:23:23.612843Z",
     "iopub.status.busy": "2024-03-31T08:23:23.612186Z",
     "iopub.status.idle": "2024-03-31T08:23:23.620068Z",
     "shell.execute_reply": "2024-03-31T08:23:23.618863Z"
    },
    "papermill": {
     "duration": 0.028972,
     "end_time": "2024-03-31T08:23:23.623383",
     "exception": false,
     "start_time": "2024-03-31T08:23:23.594411",
     "status": "completed"
    },
    "tags": []
   },
   "outputs": [
    {
     "name": "stdout",
     "output_type": "stream",
     "text": [
      "[False False  True ... False  True False]\n"
     ]
    }
   ],
   "source": [
    "print(y_pred)"
   ]
  },
  {
   "cell_type": "code",
   "execution_count": 24,
   "id": "b7c84034",
   "metadata": {
    "execution": {
     "iopub.execute_input": "2024-03-31T08:23:23.649906Z",
     "iopub.status.busy": "2024-03-31T08:23:23.649445Z",
     "iopub.status.idle": "2024-03-31T08:23:23.655508Z",
     "shell.execute_reply": "2024-03-31T08:23:23.654579Z"
    },
    "papermill": {
     "duration": 0.02054,
     "end_time": "2024-03-31T08:23:23.658849",
     "exception": false,
     "start_time": "2024-03-31T08:23:23.638309",
     "status": "completed"
    },
    "tags": []
   },
   "outputs": [
    {
     "name": "stdout",
     "output_type": "stream",
     "text": [
      "1739\n"
     ]
    }
   ],
   "source": [
    "print(len(test_data['PassengerId']))"
   ]
  },
  {
   "cell_type": "code",
   "execution_count": 25,
   "id": "2c828e93",
   "metadata": {
    "execution": {
     "iopub.execute_input": "2024-03-31T08:23:23.680951Z",
     "iopub.status.busy": "2024-03-31T08:23:23.680226Z",
     "iopub.status.idle": "2024-03-31T08:23:23.688189Z",
     "shell.execute_reply": "2024-03-31T08:23:23.686861Z"
    },
    "papermill": {
     "duration": 0.021675,
     "end_time": "2024-03-31T08:23:23.690817",
     "exception": false,
     "start_time": "2024-03-31T08:23:23.669142",
     "status": "completed"
    },
    "tags": []
   },
   "outputs": [
    {
     "name": "stdout",
     "output_type": "stream",
     "text": [
      "0       0337_02\n",
      "1       2891_01\n",
      "2       8998_01\n",
      "3       1771_01\n",
      "4       9034_02\n",
      "         ...   \n",
      "1734    7656_01\n",
      "1735    3437_02\n",
      "1736    1384_01\n",
      "1737    6300_01\n",
      "1738    6442_01\n",
      "Name: PassengerId, Length: 1739, dtype: object\n"
     ]
    }
   ],
   "source": [
    "print(test_data['PassengerId'])"
   ]
  },
  {
   "cell_type": "code",
   "execution_count": 26,
   "id": "fe28bf47",
   "metadata": {
    "execution": {
     "iopub.execute_input": "2024-03-31T08:23:23.711857Z",
     "iopub.status.busy": "2024-03-31T08:23:23.711371Z",
     "iopub.status.idle": "2024-03-31T08:23:23.724402Z",
     "shell.execute_reply": "2024-03-31T08:23:23.723233Z"
    },
    "papermill": {
     "duration": 0.026822,
     "end_time": "2024-03-31T08:23:23.727150",
     "exception": false,
     "start_time": "2024-03-31T08:23:23.700328",
     "status": "completed"
    },
    "tags": []
   },
   "outputs": [],
   "source": [
    "submission_df = pd.read_csv('/kaggle/input/titanic1234/sample_submission.csv')"
   ]
  },
  {
   "cell_type": "code",
   "execution_count": 27,
   "id": "38717e34",
   "metadata": {
    "execution": {
     "iopub.execute_input": "2024-03-31T08:23:23.748289Z",
     "iopub.status.busy": "2024-03-31T08:23:23.747829Z",
     "iopub.status.idle": "2024-03-31T08:23:23.885842Z",
     "shell.execute_reply": "2024-03-31T08:23:23.884558Z"
    },
    "papermill": {
     "duration": 0.15199,
     "end_time": "2024-03-31T08:23:23.888421",
     "exception": false,
     "start_time": "2024-03-31T08:23:23.736431",
     "status": "completed"
    },
    "tags": []
   },
   "outputs": [
    {
     "data": {
      "text/html": [
       "<div>\n",
       "<style scoped>\n",
       "    .dataframe tbody tr th:only-of-type {\n",
       "        vertical-align: middle;\n",
       "    }\n",
       "\n",
       "    .dataframe tbody tr th {\n",
       "        vertical-align: top;\n",
       "    }\n",
       "\n",
       "    .dataframe thead th {\n",
       "        text-align: right;\n",
       "    }\n",
       "</style>\n",
       "<table border=\"1\" class=\"dataframe\">\n",
       "  <thead>\n",
       "    <tr style=\"text-align: right;\">\n",
       "      <th></th>\n",
       "      <th>PassengerId</th>\n",
       "      <th>Transported</th>\n",
       "    </tr>\n",
       "  </thead>\n",
       "  <tbody>\n",
       "    <tr>\n",
       "      <th>0</th>\n",
       "      <td>0337_02</td>\n",
       "      <td>False</td>\n",
       "    </tr>\n",
       "    <tr>\n",
       "      <th>1</th>\n",
       "      <td>2891_01</td>\n",
       "      <td>False</td>\n",
       "    </tr>\n",
       "    <tr>\n",
       "      <th>2</th>\n",
       "      <td>8998_01</td>\n",
       "      <td>True</td>\n",
       "    </tr>\n",
       "    <tr>\n",
       "      <th>3</th>\n",
       "      <td>1771_01</td>\n",
       "      <td>False</td>\n",
       "    </tr>\n",
       "    <tr>\n",
       "      <th>4</th>\n",
       "      <td>9034_02</td>\n",
       "      <td>True</td>\n",
       "    </tr>\n",
       "  </tbody>\n",
       "</table>\n",
       "</div>"
      ],
      "text/plain": [
       "  PassengerId  Transported\n",
       "0     0337_02        False\n",
       "1     2891_01        False\n",
       "2     8998_01         True\n",
       "3     1771_01        False\n",
       "4     9034_02         True"
      ]
     },
     "execution_count": 27,
     "metadata": {},
     "output_type": "execute_result"
    }
   ],
   "source": [
    "submission_df = pd.DataFrame({'PassengerId': test_data['PassengerId'], 'Transported': y_pred})\n",
    "\n",
    "submission_df.to_csv('submission.csv', index=False)\n",
    "submission_df.head()"
   ]
  }
 ],
 "metadata": {
  "kaggle": {
   "accelerator": "none",
   "dataSources": [
    {
     "databundleVersionId": 8054493,
     "sourceId": 73104,
     "sourceType": "competition"
    }
   ],
   "dockerImageVersionId": 30673,
   "isGpuEnabled": false,
   "isInternetEnabled": true,
   "language": "python",
   "sourceType": "notebook"
  },
  "kernelspec": {
   "display_name": "Python 3",
   "language": "python",
   "name": "python3"
  },
  "language_info": {
   "codemirror_mode": {
    "name": "ipython",
    "version": 3
   },
   "file_extension": ".py",
   "mimetype": "text/x-python",
   "name": "python",
   "nbconvert_exporter": "python",
   "pygments_lexer": "ipython3",
   "version": "3.10.13"
  },
  "papermill": {
   "default_parameters": {},
   "duration": 8.277718,
   "end_time": "2024-03-31T08:23:24.723139",
   "environment_variables": {},
   "exception": null,
   "input_path": "__notebook__.ipynb",
   "output_path": "__notebook__.ipynb",
   "parameters": {},
   "start_time": "2024-03-31T08:23:16.445421",
   "version": "2.5.0"
  }
 },
 "nbformat": 4,
 "nbformat_minor": 5
}
